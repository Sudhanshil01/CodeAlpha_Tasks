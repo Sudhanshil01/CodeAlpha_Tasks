{
 "cells": [
  {
   "cell_type": "markdown",
   "id": "6baee037",
   "metadata": {},
   "source": [
    "# A/B Testing Analysis\n",
    "\n",
    "**Objective:** Perform statistical analysis on control and treatment groups to assess impact of a change (e.g., pricing, UI, landing page).\n",
    "\n",
    "**Outcome:** Data-driven recommendation whether to implement the new change.\n",
    "\n",
    "This notebook includes: data loading, cleaning, exploratory analysis, conversion rate calculations, z-test and chi-square test, confidence intervals, and visualizations.\n"
   ]
  },
  {
   "cell_type": "code",
   "execution_count": 2,
   "id": "52c21530",
   "metadata": {},
   "outputs": [],
   "source": [
    "\n",
    "# Imports\n",
    "import pandas as pd\n",
    "import numpy as np\n",
    "import matplotlib.pyplot as plt\n",
    "from scipy import stats\n",
    "from datetime import datetime\n",
    "\n",
    "# Display settings\n",
    "pd.set_option('display.max_columns', 50)\n",
    "plt.rcParams['figure.figsize'] = (8,5)\n"
   ]
  },
  {
   "cell_type": "code",
   "execution_count": 3,
   "id": "e6871abd",
   "metadata": {},
   "outputs": [
    {
     "data": {
      "text/html": [
       "<div>\n",
       "<style scoped>\n",
       "    .dataframe tbody tr th:only-of-type {\n",
       "        vertical-align: middle;\n",
       "    }\n",
       "\n",
       "    .dataframe tbody tr th {\n",
       "        vertical-align: top;\n",
       "    }\n",
       "\n",
       "    .dataframe thead th {\n",
       "        text-align: right;\n",
       "    }\n",
       "</style>\n",
       "<table border=\"1\" class=\"dataframe\">\n",
       "  <thead>\n",
       "    <tr style=\"text-align: right;\">\n",
       "      <th></th>\n",
       "      <th>user_id</th>\n",
       "      <th>timestamp</th>\n",
       "      <th>group</th>\n",
       "      <th>landing_page</th>\n",
       "      <th>converted</th>\n",
       "    </tr>\n",
       "  </thead>\n",
       "  <tbody>\n",
       "    <tr>\n",
       "      <th>0</th>\n",
       "      <td>851104</td>\n",
       "      <td>2017-01-21 22:11:48.556739</td>\n",
       "      <td>control</td>\n",
       "      <td>old_page</td>\n",
       "      <td>0</td>\n",
       "    </tr>\n",
       "    <tr>\n",
       "      <th>1</th>\n",
       "      <td>804228</td>\n",
       "      <td>2017-01-12 08:01:45.159739</td>\n",
       "      <td>control</td>\n",
       "      <td>old_page</td>\n",
       "      <td>0</td>\n",
       "    </tr>\n",
       "    <tr>\n",
       "      <th>2</th>\n",
       "      <td>661590</td>\n",
       "      <td>2017-01-11 16:55:06.154213</td>\n",
       "      <td>treatment</td>\n",
       "      <td>new_page</td>\n",
       "      <td>0</td>\n",
       "    </tr>\n",
       "    <tr>\n",
       "      <th>3</th>\n",
       "      <td>853541</td>\n",
       "      <td>2017-01-08 18:28:03.143765</td>\n",
       "      <td>treatment</td>\n",
       "      <td>new_page</td>\n",
       "      <td>0</td>\n",
       "    </tr>\n",
       "    <tr>\n",
       "      <th>4</th>\n",
       "      <td>864975</td>\n",
       "      <td>2017-01-21 01:52:26.210827</td>\n",
       "      <td>control</td>\n",
       "      <td>old_page</td>\n",
       "      <td>1</td>\n",
       "    </tr>\n",
       "  </tbody>\n",
       "</table>\n",
       "</div>"
      ],
      "text/plain": [
       "   user_id                   timestamp      group landing_page  converted\n",
       "0   851104  2017-01-21 22:11:48.556739    control     old_page          0\n",
       "1   804228  2017-01-12 08:01:45.159739    control     old_page          0\n",
       "2   661590  2017-01-11 16:55:06.154213  treatment     new_page          0\n",
       "3   853541  2017-01-08 18:28:03.143765  treatment     new_page          0\n",
       "4   864975  2017-01-21 01:52:26.210827    control     old_page          1"
      ]
     },
     "execution_count": 3,
     "metadata": {},
     "output_type": "execute_result"
    }
   ],
   "source": [
    "\n",
    "# Load the dataset (adjust path if needed)\n",
    "file_path = \"/mnt/data/ab_data.csv\"\n",
    "df = pd.read_csv(\"C:\\\\Users\\\\hp\\\\Downloads\\\\Task3(ABTesting)\\\\ab_data.csv\")\n",
    "df.head()\n"
   ]
  },
  {
   "cell_type": "markdown",
   "id": "816f1f06",
   "metadata": {},
   "source": [
    "## 1. Data Cleaning and Validation\n",
    "\n",
    "- Check for missing values\n",
    "- Ensure landing_page matches group (control -> old_page, treatment -> new_page)\n",
    "- Remove inconsistent rows if any\n"
   ]
  },
  {
   "cell_type": "code",
   "execution_count": 4,
   "id": "70b9c333",
   "metadata": {},
   "outputs": [
    {
     "name": "stdout",
     "output_type": "stream",
     "text": [
      "<class 'pandas.core.frame.DataFrame'>\n",
      "RangeIndex: 294478 entries, 0 to 294477\n",
      "Data columns (total 5 columns):\n",
      " #   Column        Non-Null Count   Dtype \n",
      "---  ------        --------------   ----- \n",
      " 0   user_id       294478 non-null  int64 \n",
      " 1   timestamp     294478 non-null  object\n",
      " 2   group         294478 non-null  object\n",
      " 3   landing_page  294478 non-null  object\n",
      " 4   converted     294478 non-null  int64 \n",
      "dtypes: int64(2), object(3)\n",
      "memory usage: 11.2+ MB\n",
      "\n",
      "Missing values per column:\n",
      " user_id         0\n",
      "timestamp       0\n",
      "group           0\n",
      "landing_page    0\n",
      "converted       0\n",
      "dtype: int64\n",
      "\n",
      "Number of inconsistent rows: 3893\n"
     ]
    },
    {
     "data": {
      "text/html": [
       "<div>\n",
       "<style scoped>\n",
       "    .dataframe tbody tr th:only-of-type {\n",
       "        vertical-align: middle;\n",
       "    }\n",
       "\n",
       "    .dataframe tbody tr th {\n",
       "        vertical-align: top;\n",
       "    }\n",
       "\n",
       "    .dataframe thead th {\n",
       "        text-align: right;\n",
       "    }\n",
       "</style>\n",
       "<table border=\"1\" class=\"dataframe\">\n",
       "  <thead>\n",
       "    <tr style=\"text-align: right;\">\n",
       "      <th></th>\n",
       "      <th>user_id</th>\n",
       "      <th>timestamp</th>\n",
       "      <th>group</th>\n",
       "      <th>landing_page</th>\n",
       "      <th>converted</th>\n",
       "    </tr>\n",
       "  </thead>\n",
       "  <tbody>\n",
       "    <tr>\n",
       "      <th>22</th>\n",
       "      <td>767017</td>\n",
       "      <td>2017-01-12 22:58:14.991443</td>\n",
       "      <td>control</td>\n",
       "      <td>new_page</td>\n",
       "      <td>0</td>\n",
       "    </tr>\n",
       "    <tr>\n",
       "      <th>240</th>\n",
       "      <td>733976</td>\n",
       "      <td>2017-01-11 15:11:16.407599</td>\n",
       "      <td>control</td>\n",
       "      <td>new_page</td>\n",
       "      <td>0</td>\n",
       "    </tr>\n",
       "    <tr>\n",
       "      <th>308</th>\n",
       "      <td>857184</td>\n",
       "      <td>2017-01-20 07:34:59.832626</td>\n",
       "      <td>treatment</td>\n",
       "      <td>old_page</td>\n",
       "      <td>0</td>\n",
       "    </tr>\n",
       "    <tr>\n",
       "      <th>327</th>\n",
       "      <td>686623</td>\n",
       "      <td>2017-01-09 14:26:40.734775</td>\n",
       "      <td>treatment</td>\n",
       "      <td>old_page</td>\n",
       "      <td>0</td>\n",
       "    </tr>\n",
       "    <tr>\n",
       "      <th>357</th>\n",
       "      <td>856078</td>\n",
       "      <td>2017-01-12 12:29:30.354835</td>\n",
       "      <td>treatment</td>\n",
       "      <td>old_page</td>\n",
       "      <td>0</td>\n",
       "    </tr>\n",
       "  </tbody>\n",
       "</table>\n",
       "</div>"
      ],
      "text/plain": [
       "     user_id                   timestamp      group landing_page  converted\n",
       "22    767017  2017-01-12 22:58:14.991443    control     new_page          0\n",
       "240   733976  2017-01-11 15:11:16.407599    control     new_page          0\n",
       "308   857184  2017-01-20 07:34:59.832626  treatment     old_page          0\n",
       "327   686623  2017-01-09 14:26:40.734775  treatment     old_page          0\n",
       "357   856078  2017-01-12 12:29:30.354835  treatment     old_page          0"
      ]
     },
     "execution_count": 4,
     "metadata": {},
     "output_type": "execute_result"
    }
   ],
   "source": [
    "\n",
    "# Basic info and missing values\n",
    "df.info()\n",
    "print('\\nMissing values per column:\\n', df.isnull().sum())\n",
    "\n",
    "# Check consistency between group and landing_page\n",
    "inconsistent = df[~(((df['group']=='control') & (df['landing_page']=='old_page')) | \n",
    "                    ((df['group']=='treatment') & (df['landing_page']=='new_page')))]\n",
    "print('\\nNumber of inconsistent rows:', len(inconsistent))\n",
    "inconsistent.head()\n"
   ]
  },
  {
   "cell_type": "code",
   "execution_count": 5,
   "id": "b2ec1f59",
   "metadata": {},
   "outputs": [
    {
     "name": "stdout",
     "output_type": "stream",
     "text": [
      "Rows before: 294478 Rows after cleaning: 290585\n"
     ]
    }
   ],
   "source": [
    "\n",
    "# Remove inconsistent rows (if any)\n",
    "df_clean = df.copy()\n",
    "df_clean = df_clean[((df_clean['group']=='control') & (df_clean['landing_page']=='old_page')) | \n",
    "                    ((df_clean['group']=='treatment') & (df_clean['landing_page']=='new_page'))].reset_index(drop=True)\n",
    "print('Rows before:', len(df), 'Rows after cleaning:', len(df_clean))\n"
   ]
  },
  {
   "cell_type": "markdown",
   "id": "4fbd3173",
   "metadata": {},
   "source": [
    "## 2. Define Control and Treatment Groups\n",
    "\n",
    "We'll compute conversion rates and sample sizes for each group."
   ]
  },
  {
   "cell_type": "code",
   "execution_count": 6,
   "id": "03b3a799",
   "metadata": {},
   "outputs": [
    {
     "data": {
      "text/html": [
       "<div>\n",
       "<style scoped>\n",
       "    .dataframe tbody tr th:only-of-type {\n",
       "        vertical-align: middle;\n",
       "    }\n",
       "\n",
       "    .dataframe tbody tr th {\n",
       "        vertical-align: top;\n",
       "    }\n",
       "\n",
       "    .dataframe thead th {\n",
       "        text-align: right;\n",
       "    }\n",
       "</style>\n",
       "<table border=\"1\" class=\"dataframe\">\n",
       "  <thead>\n",
       "    <tr style=\"text-align: right;\">\n",
       "      <th></th>\n",
       "      <th>group</th>\n",
       "      <th>n_users</th>\n",
       "      <th>conversions</th>\n",
       "      <th>conversion_rate</th>\n",
       "    </tr>\n",
       "  </thead>\n",
       "  <tbody>\n",
       "    <tr>\n",
       "      <th>0</th>\n",
       "      <td>control</td>\n",
       "      <td>145274</td>\n",
       "      <td>17489</td>\n",
       "      <td>0.120386</td>\n",
       "    </tr>\n",
       "    <tr>\n",
       "      <th>1</th>\n",
       "      <td>treatment</td>\n",
       "      <td>145311</td>\n",
       "      <td>17264</td>\n",
       "      <td>0.118807</td>\n",
       "    </tr>\n",
       "  </tbody>\n",
       "</table>\n",
       "</div>"
      ],
      "text/plain": [
       "       group  n_users  conversions  conversion_rate\n",
       "0    control   145274        17489         0.120386\n",
       "1  treatment   145311        17264         0.118807"
      ]
     },
     "execution_count": 6,
     "metadata": {},
     "output_type": "execute_result"
    }
   ],
   "source": [
    "\n",
    "# Group summary\n",
    "summary = df_clean.groupby('group').agg(\n",
    "    n_users = ('user_id', 'count'),\n",
    "    conversions = ('converted', 'sum')\n",
    ").reset_index()\n",
    "summary['conversion_rate'] = summary['conversions'] / summary['n_users']\n",
    "summary\n"
   ]
  },
  {
   "cell_type": "markdown",
   "id": "af026d04",
   "metadata": {},
   "source": [
    "## 3. Conversion Rate Comparison\n",
    "\n",
    "Calculate the difference in conversion rates and visualize."
   ]
  },
  {
   "cell_type": "code",
   "execution_count": 7,
   "id": "6c8b94ab",
   "metadata": {},
   "outputs": [
    {
     "name": "stdout",
     "output_type": "stream",
     "text": [
      "Control conversion rate: 0.1204 (17489/145274)\n",
      "Treatment conversion rate: 0.1188 (17264/145311)\n",
      "Difference (treatment - control): -0.0016\n"
     ]
    }
   ],
   "source": [
    "\n",
    "# Conversion rates and difference\n",
    "control = summary[summary['group']=='control'].iloc[0]\n",
    "treatment = summary[summary['group']=='treatment'].iloc[0]\n",
    "\n",
    "p_control = control['conversion_rate']\n",
    "p_treatment = treatment['conversion_rate']\n",
    "n_control = control['n_users']\n",
    "n_treatment = treatment['n_users']\n",
    "\n",
    "diff = p_treatment - p_control\n",
    "print(f\"Control conversion rate: {p_control:.4f} ({control['conversions']}/{n_control})\")\n",
    "print(f\"Treatment conversion rate: {p_treatment:.4f} ({treatment['conversions']}/{n_treatment})\")\n",
    "print(f\"Difference (treatment - control): {diff:.4f}\")\n"
   ]
  },
  {
   "cell_type": "code",
   "execution_count": 8,
   "id": "ff55208f",
   "metadata": {},
   "outputs": [
    {
     "data": {
      "image/png": "[encoded data removed]",
      "text/plain": [
       "<Figure size 800x500 with 1 Axes>"
      ]
     },
     "metadata": {},
     "output_type": "display_data"
    }
   ],
   "source": [
    "\n",
    "# Bar plot of conversion rates\n",
    "groups = ['control','treatment']\n",
    "rates = [p_control, p_treatment]\n",
    "plt.bar(groups, rates)\n",
    "plt.ylabel('Conversion Rate')\n",
    "plt.title('Conversion Rate by Group')\n",
    "for i, v in enumerate(rates):\n",
    "    plt.text(i, v + 0.0005, f\"{v:.4f}\", ha='center')\n",
    "plt.ylim(0, max(rates)*1.3)\n",
    "plt.show()\n"
   ]
  },
  {
   "cell_type": "markdown",
   "id": "1e56a78e",
   "metadata": {},
   "source": [
    "## 4. Statistical Tests\n",
    "\n",
    "We'll perform:\n",
    "- Two-proportion z-test for difference in conversion rates\n",
    "- Chi-square test of independence (conversion vs group)\n",
    "\n",
    "We will also compute a 95% confidence interval for the difference in proportions."
   ]
  },
  {
   "cell_type": "code",
   "execution_count": 9,
   "id": "979aca25",
   "metadata": {},
   "outputs": [
    {
     "name": "stdout",
     "output_type": "stream",
     "text": [
      "Pooled proportion: 0.119597\n",
      "Z-statistic: -1.3116\n",
      "Two-sided p-value: 0.189653\n"
     ]
    }
   ],
   "source": [
    "\n",
    "# Two-proportion z-test (manual calculation)\n",
    "p_pool = (control['conversions'] + treatment['conversions']) / (n_control + n_treatment)\n",
    "se_pool = np.sqrt(p_pool * (1 - p_pool) * (1/n_control + 1/n_treatment))\n",
    "z_stat = (p_treatment - p_control) / se_pool\n",
    "p_value_two_sided = 2 * (1 - stats.norm.cdf(abs(z_stat)))\n",
    "\n",
    "print(f\"Pooled proportion: {p_pool:.6f}\")\n",
    "print(f\"Z-statistic: {z_stat:.4f}\")\n",
    "print(f\"Two-sided p-value: {p_value_two_sided:.6f}\")\n"
   ]
  },
  {
   "cell_type": "code",
   "execution_count": 10,
   "id": "b088771f",
   "metadata": {},
   "outputs": [
    {
     "name": "stdout",
     "output_type": "stream",
     "text": [
      "95% CI for difference (treatment - control): [-0.003939, 0.000781]\n"
     ]
    }
   ],
   "source": [
    "\n",
    "# 95% confidence interval for difference in proportions (unpooled)\n",
    "se_diff = np.sqrt(p_control*(1-p_control)/n_control + p_treatment*(1-p_treatment)/n_treatment)\n",
    "z_95 = stats.norm.ppf(0.975)\n",
    "ci_lower = diff - z_95 * se_diff\n",
    "ci_upper = diff + z_95 * se_diff\n",
    "print(f\"95% CI for difference (treatment - control): [{ci_lower:.6f}, {ci_upper:.6f}]\")\n"
   ]
  },
  {
   "cell_type": "code",
   "execution_count": 11,
   "id": "0eee9ece",
   "metadata": {},
   "outputs": [
    {
     "data": {
      "text/html": [
       "<div>\n",
       "<style scoped>\n",
       "    .dataframe tbody tr th:only-of-type {\n",
       "        vertical-align: middle;\n",
       "    }\n",
       "\n",
       "    .dataframe tbody tr th {\n",
       "        vertical-align: top;\n",
       "    }\n",
       "\n",
       "    .dataframe thead th {\n",
       "        text-align: right;\n",
       "    }\n",
       "</style>\n",
       "<table border=\"1\" class=\"dataframe\">\n",
       "  <thead>\n",
       "    <tr style=\"text-align: right;\">\n",
       "      <th></th>\n",
       "      <th>not_converted</th>\n",
       "      <th>converted</th>\n",
       "    </tr>\n",
       "    <tr>\n",
       "      <th>group</th>\n",
       "      <th></th>\n",
       "      <th></th>\n",
       "    </tr>\n",
       "  </thead>\n",
       "  <tbody>\n",
       "    <tr>\n",
       "      <th>control</th>\n",
       "      <td>127785</td>\n",
       "      <td>17489</td>\n",
       "    </tr>\n",
       "    <tr>\n",
       "      <th>treatment</th>\n",
       "      <td>128047</td>\n",
       "      <td>17264</td>\n",
       "    </tr>\n",
       "  </tbody>\n",
       "</table>\n",
       "</div>"
      ],
      "text/plain": [
       "           not_converted  converted\n",
       "group                              \n",
       "control           127785      17489\n",
       "treatment         128047      17264"
      ]
     },
     "execution_count": 11,
     "metadata": {},
     "output_type": "execute_result"
    }
   ],
   "source": [
    "\n",
    "# Chi-square test (conversion vs group)\n",
    "contingency = pd.crosstab(df_clean['group'], df_clean['converted'])\n",
    "contingency.columns = ['not_converted','converted']\n",
    "contingency\n"
   ]
  },
  {
   "cell_type": "code",
   "execution_count": 12,
   "id": "d04fd3db",
   "metadata": {},
   "outputs": [
    {
     "name": "stdout",
     "output_type": "stream",
     "text": [
      "Chi-square statistic: 1.7054, p-value: 0.191590, dof: 1\n",
      "\n",
      "Expected frequencies:\n",
      " [[127899.7125385  17374.2874615]\n",
      " [127932.2874615  17378.7125385]]\n"
     ]
    }
   ],
   "source": [
    "\n",
    "chi2, chi_p, dof, expected = stats.chi2_contingency(contingency)\n",
    "print(f\"Chi-square statistic: {chi2:.4f}, p-value: {chi_p:.6f}, dof: {dof}\")\n",
    "print('\\nExpected frequencies:\\n', expected)\n"
   ]
  },
  {
   "cell_type": "markdown",
   "id": "c078db34",
   "metadata": {},
   "source": [
    "## 5. Practical Significance (Effect Size)\n",
    "\n",
    "We'll compute the absolute difference and relative uplift."
   ]
  },
  {
   "cell_type": "code",
   "execution_count": 13,
   "id": "792e8c97",
   "metadata": {},
   "outputs": [
    {
     "name": "stdout",
     "output_type": "stream",
     "text": [
      "Absolute difference: -0.001579\n",
      "Relative uplift: -1.3117%\n"
     ]
    }
   ],
   "source": [
    "\n",
    "absolute_diff = diff\n",
    "relative_uplift = (p_treatment / p_control - 1) if p_control > 0 else np.nan\n",
    "print(f\"Absolute difference: {absolute_diff:.6f}\")\n",
    "print(f\"Relative uplift: {relative_uplift:.4%}\")\n"
   ]
  },
  {
   "cell_type": "markdown",
   "id": "7c336105",
   "metadata": {},
   "source": [
    "## 6. Summary and Recommendation\n",
    "\n",
    "Interpret results and provide a recommendation based on statistical significance and business impact."
   ]
  },
  {
   "cell_type": "code",
   "execution_count": 14,
   "id": "f0d8868a",
   "metadata": {},
   "outputs": [
    {
     "name": "stdout",
     "output_type": "stream",
     "text": [
      "Statistical significance threshold alpha = 0.05\n",
      "\n",
      "Two-proportion z-test p-value = 0.18965258971881793\n",
      "Chi-square test p-value = 0.19158976298516003\n",
      "\n",
      "95% CI for difference: (np.float64(-0.003938670329636228), np.float64(0.0007805571342619382))\n",
      "\n",
      "Recommendation guidance:\n",
      "- The difference is NOT statistically significant at alpha=0.05.\n",
      "\n",
      "Considerations:\n",
      "- Check business impact of the observed uplift (absolute and relative).\n",
      "- Consider running longer or segmenting by user cohorts if result is marginal.\n"
     ]
    }
   ],
   "source": [
    "\n",
    "alpha = 0.05\n",
    "print('Statistical significance threshold alpha =', alpha)\n",
    "print('\\nTwo-proportion z-test p-value =', p_value_two_sided)\n",
    "print('Chi-square test p-value =', chi_p)\n",
    "print('\\n95% CI for difference:', (ci_lower, ci_upper))\n",
    "print(f\"\\nRecommendation guidance:\")\n",
    "if p_value_two_sided < alpha:\n",
    "    print('- The difference is statistically significant at alpha=0.05.')\n",
    "else:\n",
    "    print('- The difference is NOT statistically significant at alpha=0.05.')\n",
    "\n",
    "print('\\nConsiderations:')\n",
    "print('- Check business impact of the observed uplift (absolute and relative).')\n",
    "print('- Consider running longer or segmenting by user cohorts if result is marginal.')\n"
   ]
  },
  {
   "cell_type": "markdown",
   "id": "4adb116e",
   "metadata": {},
   "source": [
    "## 7. (Optional) Bootstrapped Confidence Interval\n",
    "\n",
    "We'll run a bootstrap to estimate the confidence interval for the difference of conversion rates."
   ]
  },
  {
   "cell_type": "code",
   "execution_count": 15,
   "id": "2c4fc3c3",
   "metadata": {},
   "outputs": [
    {
     "name": "stdout",
     "output_type": "stream",
     "text": [
      "Bootstrap 95% CI: [-0.003953, 0.000782]\n"
     ]
    }
   ],
   "source": [
    "\n",
    "# Bootstrap for difference in conversion rates\n",
    "rng = np.random.default_rng(42)\n",
    "n_iters = 10000\n",
    "boot_diffs = np.empty(n_iters)\n",
    "arr_control = df_clean[df_clean['group']=='control']['converted'].values\n",
    "arr_treatment = df_clean[df_clean['group']=='treatment']['converted'].values\n",
    "\n",
    "for i in range(n_iters):\n",
    "    s_control = rng.choice(arr_control, size=len(arr_control), replace=True)\n",
    "    s_treatment = rng.choice(arr_treatment, size=len(arr_treatment), replace=True)\n",
    "    boot_diffs[i] = s_treatment.mean() - s_control.mean()\n",
    "\n",
    "ci_lower_b = np.percentile(boot_diffs, 2.5)\n",
    "ci_upper_b = np.percentile(boot_diffs, 97.5)\n",
    "print(f\"Bootstrap 95% CI: [{ci_lower_b:.6f}, {ci_upper_b:.6f}]\")\n"
   ]
  },
  {
   "cell_type": "markdown",
   "id": "5fbafd49",
   "metadata": {},
   "source": [
    "## 8. Save results to CSV (summary)\n",
    "\n",
    "We'll save a small summary CSV with key metrics."
   ]
  },
  {
   "cell_type": "code",
   "execution_count": 17,
   "id": "22971ff2",
   "metadata": {},
   "outputs": [
    {
     "name": "stdout",
     "output_type": "stream",
     "text": [
      "Saved summary to C:\\Users\\hp\\Downloads\\Task3(ABTesting)\\countries (1).csv\n"
     ]
    },
    {
     "data": {
      "text/html": [
       "<div>\n",
       "<style scoped>\n",
       "    .dataframe tbody tr th:only-of-type {\n",
       "        vertical-align: middle;\n",
       "    }\n",
       "\n",
       "    .dataframe tbody tr th {\n",
       "        vertical-align: top;\n",
       "    }\n",
       "\n",
       "    .dataframe thead th {\n",
       "        text-align: right;\n",
       "    }\n",
       "</style>\n",
       "<table border=\"1\" class=\"dataframe\">\n",
       "  <thead>\n",
       "    <tr style=\"text-align: right;\">\n",
       "      <th></th>\n",
       "      <th>group</th>\n",
       "      <th>n_users</th>\n",
       "      <th>conversions</th>\n",
       "      <th>conversion_rate</th>\n",
       "    </tr>\n",
       "  </thead>\n",
       "  <tbody>\n",
       "    <tr>\n",
       "      <th>0</th>\n",
       "      <td>control</td>\n",
       "      <td>145274</td>\n",
       "      <td>17489</td>\n",
       "      <td>0.120386</td>\n",
       "    </tr>\n",
       "    <tr>\n",
       "      <th>1</th>\n",
       "      <td>treatment</td>\n",
       "      <td>145311</td>\n",
       "      <td>17264</td>\n",
       "      <td>0.118807</td>\n",
       "    </tr>\n",
       "  </tbody>\n",
       "</table>\n",
       "</div>"
      ],
      "text/plain": [
       "       group  n_users  conversions  conversion_rate\n",
       "0    control   145274        17489         0.120386\n",
       "1  treatment   145311        17264         0.118807"
      ]
     },
     "execution_count": 17,
     "metadata": {},
     "output_type": "execute_result"
    }
   ],
   "source": [
    "\n",
    "results = {\n",
    "    'group': ['control','treatment'],\n",
    "    'n_users': [n_control, n_treatment],\n",
    "    'conversions': [int(control['conversions']), int(treatment['conversions'])],\n",
    "    'conversion_rate': [p_control, p_treatment]\n",
    "}\n",
    "res_df = pd.DataFrame(results)\n",
    "res_df['conversion_rate'] = res_df['conversion_rate'].round(6)\n",
    "out_path = \"C:\\\\Users\\\\hp\\\\Downloads\\\\Task3(ABTesting)\\\\countries (1).csv\"\n",
    "res_df.to_csv(out_path, index=False)\n",
    "print('Saved summary to', out_path)\n",
    "res_df\n"
   ]
  }
 ],
 "metadata": {
  "kernelspec": {
   "display_name": "Python 3 (ipykernel)",
   "language": "python",
   "name": "python3"
  },
  "language_info": {
   "codemirror_mode": {
    "name": "ipython",
    "version": 3
   },
   "file_extension": ".py",
   "mimetype": "text/x-python",
   "name": "python",
   "nbconvert_exporter": "python",
   "pygments_lexer": "ipython3",
   "version": "3.9.21"
  }
 },
 "nbformat": 4,
 "nbformat_minor": 5
}
